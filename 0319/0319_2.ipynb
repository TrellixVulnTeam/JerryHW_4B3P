{
 "cells": [
  {
   "cell_type": "code",
   "execution_count": 6,
   "metadata": {},
   "outputs": [
    {
     "name": "stdout",
     "output_type": "stream",
     "text": [
      "猜猜數字是多少？：1\n",
      "繼續猜啊\n",
      "猜猜數字是多少？：2\n",
      "繼續猜啊\n",
      "猜猜數字是多少？：3\n",
      "繼續猜啊\n",
      "猜猜數字是多少？：4\n",
      "繼續猜啊\n",
      "猜猜數字是多少？：5\n",
      "繼續猜啊\n",
      "猜猜數字是多少？：6\n",
      "繼續猜啊\n",
      "猜猜數字是多少？：7\n",
      "繼續猜啊\n",
      "猜猜數字是多少？：8\n",
      "會猜哦\n"
     ]
    }
   ],
   "source": [
    "while True:\n",
    "    name = input(\"猜猜數字是多少？：\")\n",
    "    if name == '8':\n",
    "        print('會猜哦')\n",
    "        break\n",
    "    print('繼續猜啊')"
   ]
  },
  {
   "cell_type": "code",
   "execution_count": null,
   "metadata": {},
   "outputs": [],
   "source": []
  }
 ],
 "metadata": {
  "kernelspec": {
   "display_name": "Python 3",
   "language": "python",
   "name": "python3"
  },
  "language_info": {
   "codemirror_mode": {
    "name": "ipython",
    "version": 3
   },
   "file_extension": ".py",
   "mimetype": "text/x-python",
   "name": "python",
   "nbconvert_exporter": "python",
   "pygments_lexer": "ipython3",
   "version": "3.6.4"
  }
 },
 "nbformat": 4,
 "nbformat_minor": 2
}
