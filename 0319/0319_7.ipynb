{
 "cells": [
  {
   "cell_type": "code",
   "execution_count": null,
   "metadata": {},
   "outputs": [],
   "source": [
    "def Computer(x,y,operator):\n",
    "    if(operator == '+'):\n",
    "        return (x + y)\n",
    "    if(operator == '-'):\n",
    "        return (x - y)\n",
    "    if(operator == '*'):\n",
    "        return (x * y)\n",
    "    if(operator == '/'):\n",
    "        return (x / y)\n",
    "    \n",
    "\n",
    "\n",
    "x1 = input(\"請輸入A數字：\")\n",
    "y1 = input(\"請輸入B數字：\")\n",
    "operator1 = input(\"請輸入運算子：\")\n",
    "x1=float(x1)\n",
    "y1=float(y1)\n",
    "Computer(x1,y1,operator1)\n"
   ]
  },
  {
   "cell_type": "code",
   "execution_count": 10,
   "metadata": {},
   "outputs": [],
   "source": []
  },
  {
   "cell_type": "code",
   "execution_count": null,
   "metadata": {},
   "outputs": [],
   "source": []
  },
  {
   "cell_type": "code",
   "execution_count": null,
   "metadata": {},
   "outputs": [],
   "source": []
  }
 ],
 "metadata": {
  "kernelspec": {
   "display_name": "Python 3",
   "language": "python",
   "name": "python3"
  },
  "language_info": {
   "codemirror_mode": {
    "name": "ipython",
    "version": 3
   },
   "file_extension": ".py",
   "mimetype": "text/x-python",
   "name": "python",
   "nbconvert_exporter": "python",
   "pygments_lexer": "ipython3",
   "version": "3.6.4"
  }
 },
 "nbformat": 4,
 "nbformat_minor": 2
}
